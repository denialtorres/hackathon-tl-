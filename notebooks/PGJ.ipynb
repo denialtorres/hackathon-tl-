{
 "cells": [
  {
   "cell_type": "code",
   "execution_count": 1,
   "metadata": {
    "collapsed": true
   },
   "outputs": [],
   "source": [
    "from selenium import webdriver\n",
    "from selenium.webdriver.common.keys import Keys\n",
    "from bs4 import BeautifulSoup\n",
    "import requests\n",
    "import pandas\n",
    "import simplejson"
   ]
  },
  {
   "cell_type": "code",
   "execution_count": 17,
   "metadata": {
    "collapsed": true
   },
   "outputs": [],
   "source": [
    "driver = webdriver.Chrome()\n",
    "driver.get(\"http://pgjesin.gob.mx:8090/desaparecidos/Busqueda_Desaparecidos.asp?estado=2&nomestado=Baja%20California\")"
   ]
  },
  {
   "cell_type": "code",
   "execution_count": 3,
   "metadata": {
    "collapsed": true
   },
   "outputs": [],
   "source": [
    "button_start = driver.find_element_by_id(\"Submit1\")\n",
    "button_start.click()"
   ]
  },
  {
   "cell_type": "code",
   "execution_count": 12,
   "metadata": {},
   "outputs": [
    {
     "name": "stderr",
     "output_type": "stream",
     "text": [
      "/usr/local/lib/python3.6/site-packages/bs4/__init__.py:181: UserWarning: No parser was explicitly specified, so I'm using the best available HTML parser for this system (\"lxml\"). This usually isn't a problem, but if you run this code on another system, or in a different virtual environment, it may use a different parser and behave differently.\n",
      "\n",
      "The code that caused this warning is on line 193 of the file /usr/local/Cellar/python/3.6.5/Frameworks/Python.framework/Versions/3.6/lib/python3.6/runpy.py. To get rid of this warning, change code that looks like this:\n",
      "\n",
      " BeautifulSoup([your markup])\n",
      "\n",
      "to this:\n",
      "\n",
      " BeautifulSoup([your markup], \"lxml\")\n",
      "\n",
      "  markup_type=markup_type))\n"
     ]
    }
   ],
   "source": [
    "links_data = [link[\"href\"] for link in BeautifulSoup(requests.get(\"http://pgjesin.gob.mx:8090/desaparecidos/\").content).find_all(\"a\") if \"Busqueda_Desaparecidos\" in link[\"href\"] and \"Todos\" not in link[\"href\"]]"
   ]
  },
  {
   "cell_type": "code",
   "execution_count": 14,
   "metadata": {},
   "outputs": [
    {
     "data": {
      "text/plain": [
       "['Busqueda_Desaparecidos.asp?estado=2&nomestado=Baja%20California',\n",
       " 'Busqueda_Desaparecidos.asp?estado=32&nomestado=Zacatecas',\n",
       " 'Busqueda_Desaparecidos.asp?estado=23&nomestado=Quintana%20Roo',\n",
       " 'Busqueda_Desaparecidos.asp?estado=11&nomestado=Guanajuato',\n",
       " 'Busqueda_Desaparecidos.asp?estado=14&nomestado=Jalisco',\n",
       " 'Busqueda_Desaparecidos.asp?estado=15&nomestado=México',\n",
       " 'Busqueda_Desaparecidos.asp?estado=3&nomestado=Baja%20California%20Sur',\n",
       " 'Busqueda_Desaparecidos.asp?estado=99&nomestado=Otros',\n",
       " 'Busqueda_Desaparecidos.asp?estado=7&nomestado=Chiapas',\n",
       " 'Busqueda_Desaparecidos.asp?estado=21&nomestado=Puebla',\n",
       " 'Busqueda_Desaparecidos.asp?estado=18&nomestado=Nayarit',\n",
       " 'Busqueda_Desaparecidos.asp?estado=27&nomestado=Tabasco',\n",
       " 'Busqueda_Desaparecidos.asp?estado=9&nomestado=Distrito%20Federal',\n",
       " 'Busqueda_Desaparecidos.asp?estado=17&nomestado=Morelos',\n",
       " 'Busqueda_Desaparecidos.asp?estado=12&nomestado=Guerrero',\n",
       " 'Busqueda_Desaparecidos.asp?estado=5&nomestado=Coahuila',\n",
       " 'Busqueda_Desaparecidos.asp?estado=28&nomestado=Tamaulipas',\n",
       " 'Busqueda_Desaparecidos.asp?estado=6&nomestado=Colima',\n",
       " 'Busqueda_Desaparecidos.asp?estado=30&nomestado=Veracruz',\n",
       " 'Busqueda_Desaparecidos.asp?estado=16&nomestado=Michoac%E1n',\n",
       " 'Busqueda_Desaparecidos.asp?estado=22&nomestado=Quer%E9taro',\n",
       " 'Busqueda_Desaparecidos.asp?estado=19&nomestado=Nuevo%20Le%F3n',\n",
       " 'Busqueda_Desaparecidos.asp?estado=29&nomestado=Tlaxcala',\n",
       " 'Busqueda_Desaparecidos.asp?estado=24&nomestado=San%20Luis%20Potos%ED',\n",
       " 'Busqueda_Desaparecidos.asp?estado=31&nomestado=Yucat%E1n',\n",
       " 'Busqueda_Desaparecidos.asp?estado=25&nomestado=Sinaloa',\n",
       " 'Busqueda_Desaparecidos.asp?estado=10&nomestado=Durango',\n",
       " 'Busqueda_Desaparecidos.asp?estado=4&nomestado=Campeche',\n",
       " 'Busqueda_Desaparecidos.asp?estado=20&nomestado=Oaxaca',\n",
       " 'Busqueda_Desaparecidos.asp?estado=26&nomestado=Sonora',\n",
       " 'Busqueda_Desaparecidos.asp?estado=8&nomestado=Chihuahua',\n",
       " 'Busqueda_Desaparecidos.asp?estado=13&nomestado=Hidalgo']"
      ]
     },
     "execution_count": 14,
     "metadata": {},
     "output_type": "execute_result"
    }
   ],
   "source": [
    "list(set(links_data))"
   ]
  },
  {
   "cell_type": "code",
   "execution_count": 20,
   "metadata": {
    "collapsed": true
   },
   "outputs": [],
   "source": [
    "driver = webdriver.Chrome()\n",
    "driver.get(\"http://pgjesin.gob.mx:8090/desaparecidos/Busqueda_Desaparecidos.asp?estado=2&nomestado=Baja%20California\")"
   ]
  },
  {
   "cell_type": "code",
   "execution_count": 21,
   "metadata": {},
   "outputs": [],
   "source": [
    "button_start = driver.find_element_by_id(\"Submit1\")\n",
    "button_start.click()"
   ]
  },
  {
   "cell_type": "code",
   "execution_count": 19,
   "metadata": {
    "collapsed": true
   },
   "outputs": [],
   "source": [
    "#still down. :()"
   ]
  },
  {
   "cell_type": "code",
   "execution_count": null,
   "metadata": {
    "collapsed": true
   },
   "outputs": [],
   "source": []
  }
 ],
 "metadata": {
  "kernelspec": {
   "display_name": "Python 3",
   "language": "python",
   "name": "python3"
  },
  "language_info": {
   "codemirror_mode": {
    "name": "ipython",
    "version": 3
   },
   "file_extension": ".py",
   "mimetype": "text/x-python",
   "name": "python",
   "nbconvert_exporter": "python",
   "pygments_lexer": "ipython3",
   "version": "3.6.5"
  }
 },
 "nbformat": 4,
 "nbformat_minor": 2
}
